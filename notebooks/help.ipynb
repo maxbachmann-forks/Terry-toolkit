{
 "cells": [
  {
   "cell_type": "markdown",
   "metadata": {},
   "source": [
    "# 各种帮助"
   ]
  },
  {
   "cell_type": "code",
   "execution_count": 4,
   "metadata": {},
   "outputs": [],
   "source": [
    "from __future__ import unicode_literals\n",
    "import sys\n",
    "sys.path.append(\"../\")\n",
    "import Terry_toolkit as tkit\n"
   ]
  },
  {
   "cell_type": "markdown",
   "metadata": {},
   "source": [
    "# 查看帮助\n",
    "help() 查看某个方法的文档"
   ]
  },
  {
   "cell_type": "code",
   "execution_count": 5,
   "metadata": {},
   "outputs": [
    {
     "name": "stdout",
     "output_type": "stream",
     "text": [
      "Help on package Terry_toolkit:\n",
      "\n",
      "NAME\n",
      "    Terry_toolkit\n",
      "\n",
      "DESCRIPTION\n",
      "    # Terry_toolkit\n",
      "    ===\n",
      "    \n",
      "    各种工具合集\n",
      "    文档地址\n",
      "    http://terry-toolkit.terrychan.org/zh/master/\n",
      "    \n",
      "    # 安装\n",
      "    > pip3 install Terry_toolkit\n",
      "\n",
      "PACKAGE CONTENTS\n",
      "    CxExtractor\n",
      "    SearchBaidu\n",
      "    TextRank4ZH\n",
      "    crawler_baidu\n",
      "    csv\n",
      "    db\n",
      "    dict_get\n",
      "    file\n",
      "    list\n",
      "    text\n",
      "    tjson\n",
      "    turl\n",
      "\n",
      "FILE\n",
      "    /mnt/data/dev/github/Terry-toolkit/Terry-toolkit/Terry_toolkit/__init__.py\n",
      "\n",
      "\n"
     ]
    }
   ],
   "source": [
    "help(tkit)"
   ]
  },
  {
   "cell_type": "markdown",
   "metadata": {},
   "source": [
    "# 查看类\n",
    "dir()查看类的方法和属性"
   ]
  },
  {
   "cell_type": "code",
   "execution_count": 6,
   "metadata": {},
   "outputs": [
    {
     "data": {
      "text/plain": [
       "['BeautifulSoup',\n",
       " 'CrawlerBaidu',\n",
       " 'Csv',\n",
       " 'CxExtractor',\n",
       " 'Db',\n",
       " 'Dict',\n",
       " 'Document',\n",
       " 'Fdb',\n",
       " 'File',\n",
       " 'Json',\n",
       " 'List',\n",
       " 'MagicBaidu',\n",
       " 'SearchBaidu',\n",
       " 'Text',\n",
       " 'TextRank4Keyword',\n",
       " 'TextRank4Sentence',\n",
       " 'UnQLite',\n",
       " 'Url',\n",
       " '__builtins__',\n",
       " '__cached__',\n",
       " '__doc__',\n",
       " '__file__',\n",
       " '__loader__',\n",
       " '__name__',\n",
       " '__package__',\n",
       " '__path__',\n",
       " '__spec__',\n",
       " 'chardet',\n",
       " 'crawler_baidu',\n",
       " 'csv',\n",
       " 'db',\n",
       " 'dict_get',\n",
       " 'file',\n",
       " 'html2text',\n",
       " 'json',\n",
       " 'list',\n",
       " 'np',\n",
       " 'os',\n",
       " 'pprint',\n",
       " 're',\n",
       " 'requests',\n",
       " 'sys',\n",
       " 'text',\n",
       " 'time',\n",
       " 'tjson',\n",
       " 'turl',\n",
       " 'types',\n",
       " 'urllib']"
      ]
     },
     "execution_count": 6,
     "metadata": {},
     "output_type": "execute_result"
    }
   ],
   "source": [
    "dir(tkit)"
   ]
  }
 ],
 "metadata": {
  "kernelspec": {
   "display_name": "Python 3",
   "language": "python",
   "name": "python3"
  },
  "language_info": {
   "codemirror_mode": {
    "name": "ipython",
    "version": 3
   },
   "file_extension": ".py",
   "mimetype": "text/x-python",
   "name": "python",
   "nbconvert_exporter": "python",
   "pygments_lexer": "ipython3",
   "version": "3.6.8"
  }
 },
 "nbformat": 4,
 "nbformat_minor": 4
}
